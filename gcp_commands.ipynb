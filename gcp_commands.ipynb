{
 "cells": [
  {
   "cell_type": "markdown",
   "metadata": {},
   "source": [
    "# GCP cli setup"
   ]
  },
  {
   "cell_type": "markdown",
   "metadata": {},
   "source": [
    "### MacOs: \n",
    "\n",
    "#### download sdk\n",
    "```sh\n",
    "wget  https://dl.google.com/dl/cloudsdk/channels/rapid/downloads/google-cloud-cli-449.0.0-darwin-arm.tar.gz\n",
    "```"
   ]
  },
  {
   "cell_type": "markdown",
   "metadata": {},
   "source": [
    "#### Unzip file\n",
    "\n",
    "```sh\n",
    "tar -xf google-cloud-cli-449.0.0-darwin-arm.tar.gz\n",
    "```"
   ]
  },
  {
   "cell_type": "markdown",
   "metadata": {},
   "source": [
    "#### install cli\n",
    "\n",
    "```sh\n",
    "./google-cloud-sdk/install.sh\n",
    "```"
   ]
  },
  {
   "cell_type": "markdown",
   "metadata": {},
   "source": [
    "#### move cli to instalation foler\n",
    "\n",
    "```sh\n",
    "sudo mv google-cloud-sdk/bin/gcloud /usr/local/bin\n",
    "```"
   ]
  },
  {
   "cell_type": "markdown",
   "metadata": {},
   "source": [
    "#### initialize gcp cli\n",
    "\n",
    "```sh\n",
    "gcloud init\n",
    "```"
   ]
  },
  {
   "cell_type": "markdown",
   "metadata": {},
   "source": [
    "#### List regions on GCP\n",
    "\n",
    "```sh\n",
    "gcloud compute regions list\n",
    "```\n"
   ]
  }
 ],
 "metadata": {
  "language_info": {
   "name": "python"
  },
  "orig_nbformat": 4
 },
 "nbformat": 4,
 "nbformat_minor": 2
}
